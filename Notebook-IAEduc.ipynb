{
 "cells": [
  {
   "cell_type": "code",
   "execution_count": null,
   "metadata": {},
   "outputs": [],
   "source": [
    "import pandas as pd"
   ]
  },
  {
   "cell_type": "code",
   "execution_count": null,
   "metadata": {},
   "outputs": [],
   "source": [
    "# Carregando dados do arquivo csv\n",
    "df_analise = pd.read_csv('dados_para_analise.csv', sep=',');\n",
    "\n",
    "# Deleta coluna nao utilizada\n",
    "del df_analise['Unnamed: 0']\n",
    "\n",
    "# Transformando tipo de coluna de string pra float\n",
    "df_analise['media_final'] = df_analise['media_final'].str.replace(',','.').astype(float)\n",
    "\n",
    "df_analise.head()"
   ]
  },
  {
   "cell_type": "code",
   "execution_count": null,
   "metadata": {},
   "outputs": [],
   "source": [
    "# Criando nova coluna para classificar se o aluno foi aprovado ou reprovado\n",
    "aprovado = 1\n",
    "reprovado = 0\n",
    "df_analise['aprovado'] = df_analise['media_final'].apply(lambda x: reprovado if x < 5 else aprovado)\n",
    "df_analise.head()"
   ]
  },
  {
   "cell_type": "code",
   "execution_count": null,
   "metadata": {},
   "outputs": [],
   "source": [
    "# Adicionar coluna discente por periodo para facilitar a contagem das disciplinas por periodo\n",
    "df_analise['disc_let'] = df_analise['discente'] + '_' + df_analise['letivo'].astype(str)"
   ]
  },
  {
   "cell_type": "code",
   "execution_count": null,
   "metadata": {},
   "outputs": [],
   "source": [
    "# Contando numero de disciplinas do aluno por periodo\n",
    "num_ocorrencias = df_analise['disc_let'].value_counts()\n",
    "num_ocorrencias.head()"
   ]
  },
  {
   "cell_type": "code",
   "execution_count": null,
   "metadata": {},
   "outputs": [],
   "source": [
    "df_analise['qtd_disciplina'] = 0\n",
    "\n",
    "# Criando nova coluna com a quantidade de disciplinas por periodo do aluno\n",
    "for index, row in df_analise.iterrows():\n",
    "    value = num_ocorrencias[row['disc_let']]\n",
    "    df_analise.set_value(index,'qtd_disciplina',value)"
   ]
  },
  {
   "cell_type": "code",
   "execution_count": null,
   "metadata": {},
   "outputs": [],
   "source": [
    "df_analise.sort_values('disc_let', ascending=False).head()"
   ]
  },
  {
   "cell_type": "code",
   "execution_count": null,
   "metadata": {},
   "outputs": [],
   "source": [
    "# Exportando dados em arquivo csv\n",
    "df_analise.to_csv(\"dataset_atualizado.csv\", sep=\",\")"
   ]
  },
  {
   "cell_type": "code",
   "execution_count": null,
   "metadata": {},
   "outputs": [],
   "source": [
    "df_novosDados = df_analise.loc[:, ['id_turma', 'nome_docente', 'postura_profissional_media', 'postura_profissional_DP', 'atuacao_profissional_media', 'atuacao_profissional_DP', 'autoavaliacao_aluno_media', 'autoavaliacao_aluno_DP', 'aprovado', 'qtd_disciplina']]\n",
    "df_novosDados.head()"
   ]
  },
  {
   "cell_type": "code",
   "execution_count": null,
   "metadata": {},
   "outputs": [],
   "source": [
    "df_novosDados.to_csv(\"dataset_filtrado.csv\", sep=\",\")"
   ]
  }
 ],
 "metadata": {
  "kernelspec": {
   "display_name": "Python 3",
   "language": "python",
   "name": "python3"
  },
  "language_info": {
   "codemirror_mode": {
    "name": "ipython",
    "version": 3
   },
   "file_extension": ".py",
   "mimetype": "text/x-python",
   "name": "python",
   "nbconvert_exporter": "python",
   "pygments_lexer": "ipython3",
   "version": "3.7.3"
  }
 },
 "nbformat": 4,
 "nbformat_minor": 4
}
