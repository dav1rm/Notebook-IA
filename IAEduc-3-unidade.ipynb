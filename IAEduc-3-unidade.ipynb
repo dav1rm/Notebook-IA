{
 "cells": [
  {
   "cell_type": "code",
   "execution_count": 1,
   "metadata": {},
   "outputs": [
    {
     "name": "stdout",
     "output_type": "stream",
     "text": [
      "Requirement already satisfied: pandas in /srv/conda/envs/notebook/lib/python3.7/site-packages (0.25.3)\r\n",
      "Requirement already satisfied: numpy>=1.13.3 in /srv/conda/envs/notebook/lib/python3.7/site-packages (from pandas) (1.17.4)\r\n",
      "Requirement already satisfied: python-dateutil>=2.6.1 in /srv/conda/envs/notebook/lib/python3.7/site-packages (from pandas) (2.8.0)\r\n",
      "Requirement already satisfied: pytz>=2017.2 in /srv/conda/envs/notebook/lib/python3.7/site-packages (from pandas) (2019.3)\r\n",
      "Requirement already satisfied: six>=1.5 in /srv/conda/envs/notebook/lib/python3.7/site-packages (from python-dateutil>=2.6.1->pandas) (1.12.0)\r\n"
     ]
    }
   ],
   "source": [
    "import sys\n",
    "\n",
    "!pip install pandas"
   ]
  },
  {
   "cell_type": "code",
   "execution_count": 2,
   "metadata": {},
   "outputs": [],
   "source": [
    "import pandas as pd"
   ]
  },
  {
   "cell_type": "code",
   "execution_count": 4,
   "metadata": {},
   "outputs": [
    {
     "data": {
      "text/html": [
       "<div>\n",
       "<style scoped>\n",
       "    .dataframe tbody tr th:only-of-type {\n",
       "        vertical-align: middle;\n",
       "    }\n",
       "\n",
       "    .dataframe tbody tr th {\n",
       "        vertical-align: top;\n",
       "    }\n",
       "\n",
       "    .dataframe thead th {\n",
       "        text-align: right;\n",
       "    }\n",
       "</style>\n",
       "<table border=\"1\" class=\"dataframe\">\n",
       "  <thead>\n",
       "    <tr style=\"text-align: right;\">\n",
       "      <th></th>\n",
       "      <th>id_turma</th>\n",
       "      <th>nome_docente</th>\n",
       "      <th>postura_profissional_media</th>\n",
       "      <th>postura_profissional_DP</th>\n",
       "      <th>atuacao_profissional_media</th>\n",
       "      <th>atuacao_profissional_DP</th>\n",
       "      <th>autoavaliacao_aluno_media</th>\n",
       "      <th>autoavaliacao_aluno_DP</th>\n",
       "      <th>qtd_disciplina</th>\n",
       "      <th>situacao</th>\n",
       "    </tr>\n",
       "  </thead>\n",
       "  <tbody>\n",
       "    <tr>\n",
       "      <th>0</th>\n",
       "      <td>57574460</td>\n",
       "      <td>ALVARO FREIRE DAMASCENO</td>\n",
       "      <td>9.81</td>\n",
       "      <td>0.54</td>\n",
       "      <td>8.44</td>\n",
       "      <td>1.52</td>\n",
       "      <td>8.61</td>\n",
       "      <td>2.13</td>\n",
       "      <td>6</td>\n",
       "      <td>0</td>\n",
       "    </tr>\n",
       "    <tr>\n",
       "      <th>1</th>\n",
       "      <td>57576591</td>\n",
       "      <td>RAFAELA HORACINA SILVA ROCHA SOARES</td>\n",
       "      <td>7.38</td>\n",
       "      <td>2.12</td>\n",
       "      <td>7.83</td>\n",
       "      <td>2.22</td>\n",
       "      <td>7.76</td>\n",
       "      <td>2.70</td>\n",
       "      <td>3</td>\n",
       "      <td>0</td>\n",
       "    </tr>\n",
       "    <tr>\n",
       "      <th>2</th>\n",
       "      <td>57576591</td>\n",
       "      <td>RAFAELA HORACINA SILVA ROCHA SOARES</td>\n",
       "      <td>7.38</td>\n",
       "      <td>2.12</td>\n",
       "      <td>7.83</td>\n",
       "      <td>2.22</td>\n",
       "      <td>7.76</td>\n",
       "      <td>2.70</td>\n",
       "      <td>6</td>\n",
       "      <td>0</td>\n",
       "    </tr>\n",
       "    <tr>\n",
       "      <th>3</th>\n",
       "      <td>57576591</td>\n",
       "      <td>RAFAELA HORACINA SILVA ROCHA SOARES</td>\n",
       "      <td>7.38</td>\n",
       "      <td>2.12</td>\n",
       "      <td>7.83</td>\n",
       "      <td>2.22</td>\n",
       "      <td>7.76</td>\n",
       "      <td>2.70</td>\n",
       "      <td>4</td>\n",
       "      <td>0</td>\n",
       "    </tr>\n",
       "    <tr>\n",
       "      <th>4</th>\n",
       "      <td>57576591</td>\n",
       "      <td>RAFAELA HORACINA SILVA ROCHA SOARES</td>\n",
       "      <td>7.38</td>\n",
       "      <td>2.12</td>\n",
       "      <td>7.83</td>\n",
       "      <td>2.22</td>\n",
       "      <td>7.76</td>\n",
       "      <td>2.70</td>\n",
       "      <td>3</td>\n",
       "      <td>1</td>\n",
       "    </tr>\n",
       "  </tbody>\n",
       "</table>\n",
       "</div>"
      ],
      "text/plain": [
       "   id_turma                         nome_docente  postura_profissional_media  \\\n",
       "0  57574460              ALVARO FREIRE DAMASCENO                        9.81   \n",
       "1  57576591  RAFAELA HORACINA SILVA ROCHA SOARES                        7.38   \n",
       "2  57576591  RAFAELA HORACINA SILVA ROCHA SOARES                        7.38   \n",
       "3  57576591  RAFAELA HORACINA SILVA ROCHA SOARES                        7.38   \n",
       "4  57576591  RAFAELA HORACINA SILVA ROCHA SOARES                        7.38   \n",
       "\n",
       "   postura_profissional_DP  atuacao_profissional_media  \\\n",
       "0                     0.54                        8.44   \n",
       "1                     2.12                        7.83   \n",
       "2                     2.12                        7.83   \n",
       "3                     2.12                        7.83   \n",
       "4                     2.12                        7.83   \n",
       "\n",
       "   atuacao_profissional_DP  autoavaliacao_aluno_media  autoavaliacao_aluno_DP  \\\n",
       "0                     1.52                       8.61                    2.13   \n",
       "1                     2.22                       7.76                    2.70   \n",
       "2                     2.22                       7.76                    2.70   \n",
       "3                     2.22                       7.76                    2.70   \n",
       "4                     2.22                       7.76                    2.70   \n",
       "\n",
       "   qtd_disciplina  situacao  \n",
       "0               6         0  \n",
       "1               3         0  \n",
       "2               6         0  \n",
       "3               4         0  \n",
       "4               3         1  "
      ]
     },
     "execution_count": 4,
     "metadata": {},
     "output_type": "execute_result"
    }
   ],
   "source": [
    "# Carregando dados do arquivo csv\n",
    "df_analise = pd.read_csv('dataset_filtrado.csv', sep=',');\n",
    "\n",
    "# Deleta coluna nao utilizada\n",
    "del df_analise['Unnamed: 0']\n",
    "\n",
    "df_analise.head()"
   ]
  },
  {
   "cell_type": "code",
   "execution_count": null,
   "metadata": {},
   "outputs": [],
   "source": []
  }
 ],
 "metadata": {
  "kernelspec": {
   "display_name": "Python 3",
   "language": "python",
   "name": "python3"
  },
  "language_info": {
   "codemirror_mode": {
    "name": "ipython",
    "version": 3
   },
   "file_extension": ".py",
   "mimetype": "text/x-python",
   "name": "python",
   "nbconvert_exporter": "python",
   "pygments_lexer": "ipython3",
   "version": "3.7.3"
  }
 },
 "nbformat": 4,
 "nbformat_minor": 2
}
